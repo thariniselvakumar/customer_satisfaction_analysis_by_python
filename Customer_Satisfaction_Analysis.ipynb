{
  "nbformat": 4,
  "nbformat_minor": 0,
  "metadata": {
    "colab": {
      "provenance": []
    },
    "kernelspec": {
      "name": "python3",
      "display_name": "Python 3"
    },
    "language_info": {
      "name": "python"
    }
  },
  "cells": [
    {
      "cell_type": "code",
      "execution_count": null,
      "metadata": {
        "id": "ubuquP-Hhdcj"
      },
      "outputs": [],
      "source": [
        "# Importing"
      ]
    },
    {
      "cell_type": "code",
      "source": [],
      "metadata": {
        "id": "dtc87IpFhjRf"
      },
      "execution_count": null,
      "outputs": []
    },
    {
      "cell_type": "code",
      "source": [],
      "metadata": {
        "id": "P_GNVBuKhjT_"
      },
      "execution_count": null,
      "outputs": []
    },
    {
      "cell_type": "code",
      "source": [],
      "metadata": {
        "id": "3Xq3cbmchjYJ"
      },
      "execution_count": null,
      "outputs": []
    },
    {
      "cell_type": "code",
      "source": [],
      "metadata": {
        "id": "JnP7WEHfhjdi"
      },
      "execution_count": null,
      "outputs": []
    }
  ]
}